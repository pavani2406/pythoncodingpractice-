{
  "nbformat": 4,
  "nbformat_minor": 0,
  "metadata": {
    "colab": {
      "provenance": [],
      "authorship_tag": "ABX9TyOk2P/1e7j1s02rp4V9Z8V0",
      "include_colab_link": true
    },
    "kernelspec": {
      "name": "python3",
      "display_name": "Python 3"
    },
    "language_info": {
      "name": "python"
    }
  },
  "cells": [
    {
      "cell_type": "markdown",
      "metadata": {
        "id": "view-in-github",
        "colab_type": "text"
      },
      "source": [
        "<a href=\"https://colab.research.google.com/github/pavani2406/pythoncodingpractice-/blob/main/PYTHON_CODE_PRACT.ipynb\" target=\"_parent\"><img src=\"https://colab.research.google.com/assets/colab-badge.svg\" alt=\"Open In Colab\"/></a>"
      ]
    },
    {
      "cell_type": "code",
      "execution_count": null,
      "metadata": {
        "colab": {
          "base_uri": "https://localhost:8080/"
        },
        "id": "4EwnuntlkeYK",
        "outputId": "5b28430c-3ed9-416e-90cc-a2566f8caec8"
      },
      "outputs": [
        {
          "output_type": "stream",
          "name": "stdout",
          "text": [
            "Hello world\n"
          ]
        }
      ],
      "source": [
        "z\n",
        "\n",
        "print(\"Hello world\")\n"
      ]
    },
    {
      "cell_type": "code",
      "source": [
        "print(\"Program 'Game Over' 2.0\")\n",
        "print(\"Same\", \"message\", \"as before\")\n",
        "print(\"Just\",\"a bit\",\"bigger\")\n",
        "print(\"Here\", end=\" \")\n"
      ],
      "metadata": {
        "colab": {
          "base_uri": "https://localhost:8080/"
        },
        "id": "AZWAULdQpoaW",
        "outputId": "b347789a-251d-4ded-d676-f374f4b88dd8"
      },
      "execution_count": null,
      "outputs": [
        {
          "output_type": "stream",
          "name": "stdout",
          "text": [
            "Program 'Game Over' 2.0\n",
            "Same message as before\n",
            "Just a bit bigger\n",
            "Here "
          ]
        }
      ]
    },
    {
      "cell_type": "code",
      "source": [
        "print(\"\\t\\t\\t \\\\ \\\\ \\\\ \\\\ \\\\ \\\\ \\\\\")\n",
        "print(\"\\nSpecial thanks goes out to:\")\n",
        "print(\"My hair stylist, Henry \\'The Great,\\' who never says \\\"can\\'t.\\\"\")\n"
      ],
      "metadata": {
        "colab": {
          "base_uri": "https://localhost:8080/"
        },
        "id": "4UJT4-nypxa1",
        "outputId": "5c6c6402-5000-4cea-f776-31a4da2af0a6"
      },
      "execution_count": null,
      "outputs": [
        {
          "output_type": "stream",
          "name": "stdout",
          "text": [
            "\t\t\t \\ \\ \\ \\ \\ \\ \\\n",
            "\n",
            "Special thanks goes out to:\n",
            "My hair stylist, Henry 'The Great,' who never says \"can't.\"\n"
          ]
        }
      ]
    },
    {
      "cell_type": "code",
      "source": [
        "gifts = input(\"Gifts: \")\n",
        "food = input(\"Dining Out: \")\n",
        "staff = input(\"Staff (butlers, chef, driver, assistant): \")\n",
        "guru = input(\"Personal Guru and Coach: \")\n",
        "games = input(\"Computer Games: \")\n",
        "total =  food + staff + guru + games\n",
        "print(\"\\nGrand Total:\", total)\n",
        "input(\"\\n\\nPress the enter key to exit.\")"
      ],
      "metadata": {
        "colab": {
          "base_uri": "https://localhost:8080/",
          "height": 209
        },
        "collapsed": true,
        "id": "ze4oLxQlqeLd",
        "outputId": "559f0853-ccd3-41a9-e235-abea3ff96378"
      },
      "execution_count": null,
      "outputs": [
        {
          "name": "stdout",
          "output_type": "stream",
          "text": [
            "Gifts: 100\n",
            "Dining Out: 500\n",
            "Staff (butlers, chef, driver, assistant): 1000\n",
            "Personal Guru and Coach: 2500\n",
            "Computer Games: 100\n",
            "\n",
            "Grand Total: 50010002500100\n",
            "\n",
            "\n",
            "Press the enter key to exit.2\n"
          ]
        },
        {
          "output_type": "execute_result",
          "data": {
            "text/plain": [
              "'2'"
            ],
            "application/vnd.google.colaboratory.intrinsic+json": {
              "type": "string"
            }
          },
          "metadata": {},
          "execution_count": 5
        }
      ]
    },
    {
      "cell_type": "code",
      "source": [
        "name = input(\"Hi. What's your name? \")\n",
        "age = input(\"How old are you? \")\n",
        "age = int(age)\n",
        "weight = int(input(\"Okay, last question. How many pounds do you weigh? \"))\n",
        "print(\"So, you're\", name, \"and\", age, \"years old. You weigh\", weight, \"pounds.\")"
      ],
      "metadata": {
        "colab": {
          "base_uri": "https://localhost:8080/"
        },
        "id": "-Z5mwdZhq2FV",
        "outputId": "3a1358c5-461c-47c9-86ae-cd94e017837f"
      },
      "execution_count": null,
      "outputs": [
        {
          "output_type": "stream",
          "name": "stdout",
          "text": [
            "Hi. What's your name? Pavani\n",
            "How old are you? 20\n",
            "Okay, last question. How many pounds do you weigh? 49\n",
            "So, you're Pavani and 20 years old. You weigh 49 pounds.\n"
          ]
        }
      ]
    },
    {
      "cell_type": "code",
      "source": [
        "# random values\n",
        "\n",
        "import random\n",
        "x = random.randrange(1, 6)\n",
        "print(x)"
      ],
      "metadata": {
        "colab": {
          "base_uri": "https://localhost:8080/"
        },
        "id": "Jh2FLiTDswIM",
        "outputId": "a813d930-3488-4abc-81f2-f18760491c91"
      },
      "execution_count": null,
      "outputs": [
        {
          "output_type": "stream",
          "name": "stdout",
          "text": [
            "2\n"
          ]
        }
      ]
    },
    {
      "cell_type": "code",
      "source": [
        "import random\n",
        "die1 = random.randint(1,6)\n",
        "die2 = random.randint(1,9        )\n",
        "print(\"The values are:\")\n",
        "print(die1, die2)"
      ],
      "metadata": {
        "colab": {
          "base_uri": "https://localhost:8080/"
        },
        "id": "zxrmYksEs-Ud",
        "outputId": "71452a08-cfec-47be-fa43-9a3ccffe7d0d"
      },
      "execution_count": null,
      "outputs": [
        {
          "output_type": "stream",
          "name": "stdout",
          "text": [
            "The values are:\n",
            "5 3\n"
          ]
        }
      ]
    },
    {
      "cell_type": "code",
      "source": [
        "\n",
        "\n",
        "print(\"This is a random print statement!\")\n",
        "print(\"Another random print statement.\")\n",
        "print(\"Random print statements are fun!\")\n"
      ],
      "metadata": {
        "colab": {
          "base_uri": "https://localhost:8080/"
        },
        "id": "eU0uRjFnxYq-",
        "outputId": "cedeeeb2-3fc9-435a-a3c8-f229024d4b78"
      },
      "execution_count": null,
      "outputs": [
        {
          "output_type": "stream",
          "name": "stdout",
          "text": [
            "This is a random print statement!\n",
            "Another random print statement.\n",
            "Random print statements are fun!\n"
          ]
        }
      ]
    },
    {
      "cell_type": "code",
      "source": [
        "\n",
        "\n",
        "print(name)\n"
      ],
      "metadata": {
        "colab": {
          "base_uri": "https://localhost:8080/"
        },
        "id": "i0MApyQfxgo4",
        "outputId": "75e26422-04ac-430f-a84d-4d16033373cc"
      },
      "execution_count": null,
      "outputs": [
        {
          "output_type": "stream",
          "name": "stdout",
          "text": [
            "pavani\n"
          ]
        }
      ]
    },
    {
      "cell_type": "code",
      "source": [
        "\n",
        "\n",
        "print(\"Hello, world!\")\n",
        "print(\"This is a string with a\", \"space in the middle.\")\n",
        "print(12345)\n",
        "print(1.2345)\n",
        "print(True)\n",
        "print([1, 2, 3])\n",
        "print({\"name\": \"John Doe\", \"age\": 30})\n",
        "print(\"The value of pi is approximately\", 3.14159)\n",
        "print(f\"My name is {'Alice'} and I am {25} years old.\")\n",
        "print(\"This is a line with a newline character\\n\")\n",
        "print(\"This is a line with a tab character\\t\")\n"
      ],
      "metadata": {
        "colab": {
          "base_uri": "https://localhost:8080/"
        },
        "id": "PK-_Byz07qNZ",
        "outputId": "707a525e-5e4f-438b-9b1e-858b7af0950c"
      },
      "execution_count": null,
      "outputs": [
        {
          "output_type": "stream",
          "name": "stdout",
          "text": [
            "Hello, world!\n",
            "This is a string with a space in the middle.\n",
            "12345\n",
            "1.2345\n",
            "True\n",
            "[1, 2, 3]\n",
            "{'name': 'John Doe', 'age': 30}\n",
            "The value of pi is approximately 3.14159\n",
            "My name is Alice and I am 25 years old.\n",
            "This is a line with a newline character\n",
            "\n",
            "This is a line with a tab character\t\n"
          ]
        }
      ]
    },
    {
      "cell_type": "code",
      "source": [
        "\n",
        "\n",
        "num1 = 10\n",
        "num2 = 5\n",
        "\n",
        "# Addition\n",
        "sum = num1 + num2\n",
        "print(\"Sum:\", sum)\n",
        "\n",
        "# Subtraction\n",
        "difference = num1 - num2\n",
        "print(\"Difference:\", difference)\n"
      ],
      "metadata": {
        "colab": {
          "base_uri": "https://localhost:8080/"
        },
        "id": "DqMWPxpf7zZx",
        "outputId": "07879d48-ab6d-43bd-8ba1-bf8fb810c462"
      },
      "execution_count": null,
      "outputs": [
        {
          "output_type": "stream",
          "name": "stdout",
          "text": [
            "Sum: 15\n",
            "Difference: 5\n"
          ]
        }
      ]
    },
    {
      "cell_type": "code",
      "source": [
        "\n",
        "\n",
        "months = [\"January\", \"February\", \"March\", \"April\", \"May\", \"June\", \"July\", \"August\", \"September\", \"October\", \"November\", \"December\"]\n",
        "print(\"Months:\", months)\n",
        "\n",
        "years = [2023, 2024, 2025]\n",
        "print(\"Years:\", years)\n"
      ],
      "metadata": {
        "colab": {
          "base_uri": "https://localhost:8080/"
        },
        "id": "mTxJCSE98AYA",
        "outputId": "c9d9141d-8b9b-485c-eacf-40c20a7d3518"
      },
      "execution_count": null,
      "outputs": [
        {
          "output_type": "stream",
          "name": "stdout",
          "text": [
            "Months: ['January', 'February', 'March', 'April', 'May', 'June', 'July', 'August', 'September', 'October', 'November', 'December']\n",
            "Years: [2023, 2024, 2025]\n"
          ]
        }
      ]
    },
    {
      "cell_type": "code",
      "source": [
        "\n",
        "\n",
        "df = {\"name\": \"Alice\", \"age\": 30, \"city\": \"New York\"}\n",
        "print(df)\n"
      ],
      "metadata": {
        "colab": {
          "base_uri": "https://localhost:8080/"
        },
        "id": "tHvGL8LL_DbY",
        "outputId": "c0eaf405-2456-41d0-fa94-45a234604207"
      },
      "execution_count": null,
      "outputs": [
        {
          "output_type": "stream",
          "name": "stdout",
          "text": [
            "{'name': 'Alice', 'age': 30, 'city': 'New York'}\n"
          ]
        }
      ]
    },
    {
      "cell_type": "code",
      "source": [
        "print(\"Welcome to System Security Inc.\")\n",
        "print(\"-- where security is our middle name\\n\")\n",
        "password = input(\"Enter your password: \")\n",
        "if password == \"secret\":\n",
        " print(\"Access Granted\")\n",
        "else:\n",
        " print(\"Access Denied\")\n"
      ],
      "metadata": {
        "colab": {
          "base_uri": "https://localhost:8080/"
        },
        "id": "UCFsrF7cBFdb",
        "outputId": "344eb5f6-226c-406d-b799-0817c25188f1"
      },
      "execution_count": null,
      "outputs": [
        {
          "output_type": "stream",
          "name": "stdout",
          "text": [
            "Welcome to System Security Inc.\n",
            "-- where security is our middle name\n",
            "\n",
            "Enter your password: Pavani\n",
            "Access Denied\n"
          ]
        }
      ]
    }
  ]
}